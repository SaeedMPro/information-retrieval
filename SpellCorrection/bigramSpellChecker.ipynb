{
 "cells": [
  {
   "cell_type": "markdown",
   "id": "35f71b0d",
   "metadata": {},
   "source": [
    "### Imports and Helper Functions"
   ]
  },
  {
   "cell_type": "code",
   "execution_count": 40,
   "id": "e4bdcbfd",
   "metadata": {},
   "outputs": [],
   "source": [
    "import re\n",
    "from collections import defaultdict"
   ]
  },
  {
   "cell_type": "markdown",
   "id": "4cc8a815",
   "metadata": {},
   "source": [
    "### Edit-distance and Candidate Functions"
   ]
  },
  {
   "cell_type": "code",
   "execution_count": 41,
   "id": "9ef0e61d",
   "metadata": {},
   "outputs": [],
   "source": [
    "def words(text):\n",
    "    \"\"\"Extract all words from a text (lowercase)\"\"\"\n",
    "    return re.findall(r'\\w+', text.lower())\n",
    "\n",
    "def edits1(word):\n",
    "    \"\"\"Generate all possible edits 1 edit away from word\"\"\"\n",
    "    letters = 'abcdefghijklmnopqrstuvwxyz'\n",
    "    splits = [(word[:i], word[i:]) for i in range(len(word) + 1)]\n",
    "    deletes = [L + R[1:] for L, R in splits if R]\n",
    "    transposes = [L + R[1] + R[0] + R[2:] for L, R in splits if len(R) > 1]\n",
    "    replaces = [L + c + R[1:] for L, R in splits if R for c in letters]\n",
    "    inserts = [L + c + R for L, R in splits for c in letters]\n",
    "    return set(deletes + transposes + replaces + inserts)\n",
    "\n",
    "def edits2(word):\n",
    "    \"\"\"Generate all possible edits 2 edits away from word\"\"\"\n",
    "    return (e2 for e1 in edits1(word) for e2 in edits1(e1))\n",
    "\n",
    "def known(words_list, word_dict):\n",
    "    \"\"\"Filter words_list to include only those present in word_dict\"\"\"\n",
    "    return set(w for w in words_list if w in word_dict)\n",
    "\n",
    "def candidates(word, word_dict):\n",
    "    \"\"\"Generate possible spelling corrections for word\"\"\"\n",
    "    return (known([word], word_dict) or known(edits1(word), word_dict) or known(edits2(word), word_dict) or [word])"
   ]
  },
  {
   "cell_type": "markdown",
   "id": "4fc7f6c9",
   "metadata": {},
   "source": [
    "### Load Corpus"
   ]
  },
  {
   "cell_type": "code",
   "execution_count": 42,
   "id": "ba9b9184",
   "metadata": {},
   "outputs": [],
   "source": [
    "with open('big.txt', 'r') as f:\n",
    "    corpus = f.read().lower()\n",
    "    all_words = words(corpus)\n",
    "    UNIGRAMS = Counter(all_words)\n",
    "    BIGRAMS = Counter(zip(all_words, all_words[1:]))"
   ]
  },
  {
   "cell_type": "markdown",
   "id": "ea5b5afb",
   "metadata": {},
   "source": [
    "### Bigram Probability and Correction Logic"
   ]
  },
  {
   "cell_type": "code",
   "execution_count": 43,
   "id": "deab65ba",
   "metadata": {},
   "outputs": [],
   "source": [
    "def bigram_prob(w1, w2):\n",
    "    \"\"\"Calculate the probability of bigram (w1, w2)\"\"\"\n",
    "    count_w1 = UNIGRAMS.get(w1, 0)\n",
    "    if count_w1 == 0:\n",
    "        return 0.0\n",
    "    return BIGRAMS.get((w1, w2), 0) / count_w1\n",
    "\n",
    "def correct_bigram(w1, w2):\n",
    "    \"\"\"Correct a bigram (w1, w2) by finding the best candidate pair\"\"\"\n",
    "    if bigram_prob(w1, w2) > 0:\n",
    "        return (w1, w2)\n",
    "    \n",
    "    c1_candidates = candidates(w1, UNIGRAMS)\n",
    "    c2_candidates = candidates(w2, UNIGRAMS)\n",
    "    \n",
    "    best_pair = (w1, w2)\n",
    "    max_prob = -1\n",
    "    \n",
    "    for c1 in c1_candidates:\n",
    "        for c2 in c2_candidates:\n",
    "            prob = bigram_prob(c1, c2)\n",
    "            if prob > max_prob:\n",
    "                max_prob = prob\n",
    "                best_pair = (c1, c2)\n",
    "    \n",
    "    return best_pair\n",
    "\n",
    "def correct_sentence(sentence):\n",
    "    \"\"\"Correct all bigrams in a sentence\"\"\"\n",
    "    words_in = words(sentence)\n",
    "    if len(words_in) < 2:\n",
    "        return sentence\n",
    "    \n",
    "    corrected = []\n",
    "    for i in range(len(words_in) - 1):\n",
    "        w1 = words_in[i]\n",
    "        w2 = words_in[i+1]\n",
    "        c1, c2 = correct_bigram(w1, w2)\n",
    "        \n",
    "        if i == 0:\n",
    "            corrected.append(c1)\n",
    "        corrected.append(c2)\n",
    "    \n",
    "    return ' '.join(corrected)"
   ]
  },
  {
   "cell_type": "markdown",
   "id": "7210fc92",
   "metadata": {},
   "source": [
    "### Example Usage and Output"
   ]
  },
  {
   "cell_type": "code",
   "execution_count": 44,
   "id": "01c95d58",
   "metadata": {},
   "outputs": [
    {
     "name": "stdout",
     "output_type": "stream",
     "text": [
      "Original: thn appl\n",
      "Corrected: the apple\n",
      "--------------------------------------------------\n",
      "Original: korrect thn appl\n",
      "Corrected: correct the apple\n",
      "--------------------------------------------------\n",
      "Original: he wrriten the lettir and sehnd it tomorow\n",
      "Corrected: he writes the letter and send it tomorrow\n",
      "--------------------------------------------------\n",
      "Original: diki beach is beauiful and crowsed\n",
      "Corrected: wiki beach is beautiful and crossed\n",
      "--------------------------------------------------\n",
      "Original: this sentence has no mistakes\n",
      "Corrected: this sentence has no mistakes\n",
      "--------------------------------------------------\n",
      "Original: hello mello\n",
      "Corrected: hello mellow\n",
      "--------------------------------------------------\n",
      "Original: ohhh my myn\n",
      "Corrected: oh my men\n",
      "--------------------------------------------------\n",
      "Original: wrng example and teste\n",
      "Corrected: wrong example and test\n",
      "--------------------------------------------------\n",
      "Original: this, is an exampel; indeed!\n",
      "Corrected: this is an example indeed\n",
      "--------------------------------------------------\n",
      "Original: ThIs Is A tEstt\n",
      "Corrected: this is a test\n",
      "--------------------------------------------------\n"
     ]
    }
   ],
   "source": [
    "\n",
    "test_sentences = [\n",
    "    \"thn appl\",\n",
    "    \"korrect thn appl\",\n",
    "    \"he wrriten the lettir and sehnd it tomorow\",\n",
    "    \"diki beach is beauiful and crowsed\",\n",
    "    \"this sentence has no mistakes\",\n",
    "    \"hello mello\",\n",
    "    \"ohhh my myn\",\n",
    "    \"wrng example and teste\",\n",
    "    \"this, is an exampel; indeed!\",\n",
    "    \"ThIs Is A tEstt\",\n",
    "]\n",
    "\n",
    "\n",
    "for sentence in test_sentences:\n",
    "    print(\"Original:\", sentence)\n",
    "    print(\"Corrected:\", correct_sentence(sentence))\n",
    "    print(\"-\" * 50)"
   ]
  }
 ],
 "metadata": {
  "kernelspec": {
   "display_name": "Python 3",
   "language": "python",
   "name": "python3"
  },
  "language_info": {
   "codemirror_mode": {
    "name": "ipython",
    "version": 3
   },
   "file_extension": ".py",
   "mimetype": "text/x-python",
   "name": "python",
   "nbconvert_exporter": "python",
   "pygments_lexer": "ipython3",
   "version": "3.13.3"
  }
 },
 "nbformat": 4,
 "nbformat_minor": 5
}
